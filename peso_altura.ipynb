{
  "nbformat": 4,
  "nbformat_minor": 0,
  "metadata": {
    "colab": {
      "name": "peso_altura.ipynb",
      "provenance": [],
      "collapsed_sections": [],
      "authorship_tag": "ABX9TyPCW3Pzb/6Ay1rKl7TdY4EQ",
      "include_colab_link": true
    },
    "kernelspec": {
      "name": "python3",
      "display_name": "Python 3"
    },
    "language_info": {
      "name": "python"
    }
  },
  "cells": [
    {
      "cell_type": "markdown",
      "metadata": {
        "id": "view-in-github",
        "colab_type": "text"
      },
      "source": [
        "<a href=\"https://colab.research.google.com/github/MatheusMDi/PrimeiroProjeto/blob/main/peso_altura.ipynb\" target=\"_parent\"><img src=\"https://colab.research.google.com/assets/colab-badge.svg\" alt=\"Open In Colab\"/></a>"
      ]
    },
    {
      "cell_type": "code",
      "metadata": {
        "id": "TGSD9Gawsu8z"
      },
      "source": [
        "import pandas as pd\n",
        "import numpy as np\n",
        "\n",
        "from matplotlib import pyplot as plt\n",
        "from sklearn import linear_model as lm"
      ],
      "execution_count": 104,
      "outputs": []
    },
    {
      "cell_type": "markdown",
      "metadata": {
        "id": "s8gH1yVxtAH8"
      },
      "source": [
        "##Carregar Dados"
      ]
    },
    {
      "cell_type": "code",
      "metadata": {
        "colab": {
          "base_uri": "https://localhost:8080/",
          "height": 343
        },
        "id": "G-cqW5nds_ZV",
        "outputId": "12fe7aee-a89f-4f15-f372-caabf02d3a42"
      },
      "source": [
        "url_dados = 'https://github.com/MatheusMDi/PrimeiroProjeto/raw/main/dados/alunos_altura_peso.csv'\n",
        "df = pd.read_csv(url_dados)\n",
        "df \n"
      ],
      "execution_count": 105,
      "outputs": [
        {
          "output_type": "execute_result",
          "data": {
            "text/html": [
              "<div>\n",
              "<style scoped>\n",
              "    .dataframe tbody tr th:only-of-type {\n",
              "        vertical-align: middle;\n",
              "    }\n",
              "\n",
              "    .dataframe tbody tr th {\n",
              "        vertical-align: top;\n",
              "    }\n",
              "\n",
              "    .dataframe thead th {\n",
              "        text-align: right;\n",
              "    }\n",
              "</style>\n",
              "<table border=\"1\" class=\"dataframe\">\n",
              "  <thead>\n",
              "    <tr style=\"text-align: right;\">\n",
              "      <th></th>\n",
              "      <th>altura</th>\n",
              "      <th>peso</th>\n",
              "    </tr>\n",
              "  </thead>\n",
              "  <tbody>\n",
              "    <tr>\n",
              "      <th>0</th>\n",
              "      <td>63</td>\n",
              "      <td>127</td>\n",
              "    </tr>\n",
              "    <tr>\n",
              "      <th>1</th>\n",
              "      <td>64</td>\n",
              "      <td>121</td>\n",
              "    </tr>\n",
              "    <tr>\n",
              "      <th>2</th>\n",
              "      <td>66</td>\n",
              "      <td>142</td>\n",
              "    </tr>\n",
              "    <tr>\n",
              "      <th>3</th>\n",
              "      <td>69</td>\n",
              "      <td>157</td>\n",
              "    </tr>\n",
              "    <tr>\n",
              "      <th>4</th>\n",
              "      <td>69</td>\n",
              "      <td>162</td>\n",
              "    </tr>\n",
              "    <tr>\n",
              "      <th>5</th>\n",
              "      <td>71</td>\n",
              "      <td>156</td>\n",
              "    </tr>\n",
              "    <tr>\n",
              "      <th>6</th>\n",
              "      <td>71</td>\n",
              "      <td>169</td>\n",
              "    </tr>\n",
              "    <tr>\n",
              "      <th>7</th>\n",
              "      <td>72</td>\n",
              "      <td>165</td>\n",
              "    </tr>\n",
              "    <tr>\n",
              "      <th>8</th>\n",
              "      <td>73</td>\n",
              "      <td>181</td>\n",
              "    </tr>\n",
              "    <tr>\n",
              "      <th>9</th>\n",
              "      <td>75</td>\n",
              "      <td>208</td>\n",
              "    </tr>\n",
              "  </tbody>\n",
              "</table>\n",
              "</div>"
            ],
            "text/plain": [
              "   altura  peso\n",
              "0      63   127\n",
              "1      64   121\n",
              "2      66   142\n",
              "3      69   157\n",
              "4      69   162\n",
              "5      71   156\n",
              "6      71   169\n",
              "7      72   165\n",
              "8      73   181\n",
              "9      75   208"
            ]
          },
          "metadata": {
            "tags": []
          },
          "execution_count": 105
        }
      ]
    },
    {
      "cell_type": "code",
      "metadata": {
        "colab": {
          "base_uri": "https://localhost:8080/",
          "height": 282
        },
        "id": "hd2g91BWs6L8",
        "outputId": "25239dd0-41c1-4b94-af5d-b50a9c4ffbd2"
      },
      "source": [
        "plt.scatter(df['altura'],df['peso'])\n",
        "plt.plot (df['altura'], yh , color ='blue')\n",
        "plt.plot (df['altura'], yh2 , color ='blue')\n",
        "plt.plot (df['altura'], yh3 , color ='red')"
      ],
      "execution_count": 106,
      "outputs": [
        {
          "output_type": "execute_result",
          "data": {
            "text/plain": [
              "[<matplotlib.lines.Line2D at 0x7fba72349f90>]"
            ]
          },
          "metadata": {
            "tags": []
          },
          "execution_count": 106
        },
        {
          "output_type": "display_data",
          "data": {
            "image/png": "[encoded data removed]",
            "text/plain": [
              "<Figure size 432x288 with 1 Axes>"
            ]
          },
          "metadata": {
            "tags": [],
            "needs_background": "light"
          }
        }
      ]
    },
    {
      "cell_type": "code",
      "metadata": {
        "id": "6K04VFpev98B"
      },
      "source": [
        "#yhat = b0 + b1*x\n",
        "x = df['altura']\n",
        "yh1 = -190 + 5.13*x\n",
        "yh2 =-260 + 6.05*x\n",
        "yh3 =-266.53439537 + 6.13758146*x"
      ],
      "execution_count": 107,
      "outputs": []
    },
    {
      "cell_type": "code",
      "metadata": {
        "colab": {
          "base_uri": "https://localhost:8080/"
        },
        "id": "wbEpRwATwV6M",
        "outputId": "c4726b21-4043-46f8-c126-9e2a1d1c7e51"
      },
      "source": [
        "# Least Square Error\n",
        "df1 = df.copy()\n",
        "\n",
        "df1['yh01'] = yh1\n",
        "df1['yh02'] = yh2\n",
        "\n",
        "#error\n",
        "df['error01'] = (df1['peso'] - df1['yh01']) **2\n",
        "df['error02'] = (df1['peso'] - df1['yh02']) **2 \n",
        "\n",
        "print('SS M01: {}'.format(np.sum(df1['error01'])))\n",
        "\n",
        "print('SS M02: {}'.format(np.sum(df1['error02'])))"
      ],
      "execution_count": 110,
      "outputs": [
        {
          "output_type": "stream",
          "text": [
            "SS M01: 1187.6947000000002\n",
            "SS M02: 600.6074999999996\n"
          ],
          "name": "stdout"
        }
      ]
    },
    {
      "cell_type": "code",
      "metadata": {
        "colab": {
          "base_uri": "https://localhost:8080/"
        },
        "id": "SkZvSsVU0aH2",
        "outputId": "e93a3b0a-3f17-4f3e-b206-5b5b825143bd"
      },
      "source": [
        "model_lm = lm.LinearRegression()\n",
        "x = np.array(df['altura']).reshape(-1,1)\n",
        "y = np.array(df['peso']).reshape(-1,1)\n",
        "#treinar\n",
        "model_lm.fit(x,y)"
      ],
      "execution_count": 111,
      "outputs": [
        {
          "output_type": "execute_result",
          "data": {
            "text/plain": [
              "LinearRegression(copy_X=True, fit_intercept=True, n_jobs=None, normalize=False)"
            ]
          },
          "metadata": {
            "tags": []
          },
          "execution_count": 111
        }
      ]
    },
    {
      "cell_type": "code",
      "metadata": {
        "colab": {
          "base_uri": "https://localhost:8080/"
        },
        "id": "2QA9JOe92XG0",
        "outputId": "7fa84086-bf09-4ce2-ee54-287286b33a34"
      },
      "source": [
        "print('b1:{}'.format(model_lm.coef_))\n",
        "print('b1:{}'.format(model_lm.intercept_))"
      ],
      "execution_count": 112,
      "outputs": [
        {
          "output_type": "stream",
          "text": [
            "b1:[[6.13758146]]\n",
            "b1:[-266.53439537]\n"
          ],
          "name": "stdout"
        }
      ]
    },
    {
      "cell_type": "code",
      "metadata": {
        "colab": {
          "base_uri": "https://localhost:8080/"
        },
        "id": "Yt5r5AnP2yGt",
        "outputId": "5832f792-57f1-464a-c55b-d481310d6001"
      },
      "source": [
        "altura1 = 71\n",
        "peso1 = -266.53439537 + 6.13758146*altura1\n",
        "peso1"
      ],
      "execution_count": 113,
      "outputs": [
        {
          "output_type": "execute_result",
          "data": {
            "text/plain": [
              "169.23388828999998"
            ]
          },
          "metadata": {
            "tags": []
          },
          "execution_count": 113
        }
      ]
    },
    {
      "cell_type": "code",
      "metadata": {
        "colab": {
          "base_uri": "https://localhost:8080/"
        },
        "id": "xxh9_9qg3xtm",
        "outputId": "d1fae464-cde3-4b1c-9422-ddc41b310dcd"
      },
      "source": [
        "altura2 = 72\n",
        "peso2 = -266.53439537 + 6.13758146*altura2\n",
        "peso2"
      ],
      "execution_count": 114,
      "outputs": [
        {
          "output_type": "execute_result",
          "data": {
            "text/plain": [
              "175.37146974999996"
            ]
          },
          "metadata": {
            "tags": []
          },
          "execution_count": 114
        }
      ]
    },
    {
      "cell_type": "code",
      "metadata": {
        "colab": {
          "base_uri": "https://localhost:8080/"
        },
        "id": "t3l38yk93y55",
        "outputId": "e7630703-a276-4d8b-da98-7354212f9bc2"
      },
      "source": [
        "175.37146974999996 - 169.23388828999998"
      ],
      "execution_count": 115,
      "outputs": [
        {
          "output_type": "execute_result",
          "data": {
            "text/plain": [
              "6.1375814599999785"
            ]
          },
          "metadata": {
            "tags": []
          },
          "execution_count": 115
        }
      ]
    },
    {
      "cell_type": "code",
      "metadata": {
        "id": "bPoa9KNl4ArG"
      },
      "source": [
        ""
      ],
      "execution_count": 115,
      "outputs": []
    }
  ]
}